{
  "nbformat": 4,
  "nbformat_minor": 0,
  "metadata": {
    "colab": {
      "provenance": [],
      "authorship_tag": "ABX9TyNdebWwkiTjEiQGsT/Z9cBP",
      "include_colab_link": true
    },
    "kernelspec": {
      "name": "python3",
      "display_name": "Python 3"
    },
    "language_info": {
      "name": "python"
    }
  },
  "cells": [
    {
      "cell_type": "markdown",
      "metadata": {
        "id": "view-in-github",
        "colab_type": "text"
      },
      "source": [
        "<a href=\"https://colab.research.google.com/github/rohandawar/TheGreatIndianRealEstateChallange/blob/main/TheGreatIndianRealEstateChallange_WIP.ipynb\" target=\"_parent\"><img src=\"https://colab.research.google.com/assets/colab-badge.svg\" alt=\"Open In Colab\"/></a>"
      ]
    },
    {
      "cell_type": "markdown",
      "source": [
        "_In this notebook, I am trying to work on the great indian Real estate challange_\n",
        "\n",
        "link: https://machinehack.com/hackathons/the_great_real_estate_data_challenge/data"
      ],
      "metadata": {
        "id": "92dU529nOThE"
      }
    },
    {
      "cell_type": "code",
      "execution_count": 1,
      "metadata": {
        "id": "QJYpHECPOMdW"
      },
      "outputs": [],
      "source": [
        "# Import libs\n",
        "#Colab\n",
        "from google.colab import drive\n",
        "\n",
        "#General\n",
        "import pandas as pd\n",
        "import numpy as np\n",
        "\n",
        "# Plotting \n",
        "import matplotlib.pyplot as plt\n",
        "import seaborn as sns"
      ]
    },
    {
      "cell_type": "code",
      "source": [
        "# "
      ],
      "metadata": {
        "id": "K4mDBY3POvxl"
      },
      "execution_count": null,
      "outputs": []
    }
  ]
}